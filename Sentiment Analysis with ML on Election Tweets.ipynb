{
 "cells": [
  {
   "cell_type": "code",
   "execution_count": 1,
   "metadata": {},
   "outputs": [],
   "source": [
    "import pandas as pd\n",
    "import numpy as np\n",
    "\n",
    "import re\n",
    "import pycld2 as cld2\n",
    "import nltk\n",
    "import pickle\n",
    "\n",
    "from textblob import TextBlob\n",
    "from langdetect import detect\n",
    "import matplotlib.pyplot as plt\n",
    "from collections import Counter\n",
    "\n",
    "from sklearn import metrics\n",
    "from sklearn.model_selection import train_test_split\n",
    "\n",
    "from sklearn.pipeline import Pipeline\n",
    "from sklearn.feature_extraction.text import TfidfVectorizer\n",
    "from sklearn.linear_model import LogisticRegression\n",
    "\n",
    "from nltk.tag import pos_tag\n",
    "from nltk.stem.wordnet import WordNetLemmatizer\n",
    "from nltk.corpus import stopwords\n",
    "from nltk.tokenize import word_tokenize\n",
    "from nltk.stem import PorterStemmer\n",
    "from nltk.probability import FreqDist"
   ]
  },
  {
   "cell_type": "code",
   "execution_count": 2,
   "metadata": {},
   "outputs": [],
   "source": [
    "trump_tweets = pd.read_csv('hashtag_donaldtrump.csv', lineterminator='\\n')\n",
    "biden_tweets = pd.read_csv('hashtag_joebiden.csv', lineterminator='\\n')"
   ]
  },
  {
   "cell_type": "code",
   "execution_count": 3,
   "metadata": {},
   "outputs": [],
   "source": [
    "#mark the tweets with their respective candidat and concat them in a new df containing all tweets\n",
    "trump_tweets ['candidat'] = 'TRUMP'\n",
    "biden_tweets ['candidat'] = 'BIDEN'\n",
    "all_tweets = pd.concat([trump_tweets,biden_tweets])"
   ]
  },
  {
   "cell_type": "markdown",
   "metadata": {},
   "source": [
    "# 1. Exploratory Data Analysis"
   ]
  },
  {
   "cell_type": "code",
   "execution_count": 4,
   "metadata": {},
   "outputs": [
    {
     "data": {
      "text/html": [
       "<div>\n",
       "<style scoped>\n",
       "    .dataframe tbody tr th:only-of-type {\n",
       "        vertical-align: middle;\n",
       "    }\n",
       "\n",
       "    .dataframe tbody tr th {\n",
       "        vertical-align: top;\n",
       "    }\n",
       "\n",
       "    .dataframe thead th {\n",
       "        text-align: right;\n",
       "    }\n",
       "</style>\n",
       "<table border=\"1\" class=\"dataframe\">\n",
       "  <thead>\n",
       "    <tr style=\"text-align: right;\">\n",
       "      <th></th>\n",
       "      <th>created_at</th>\n",
       "      <th>tweet_id</th>\n",
       "      <th>tweet</th>\n",
       "      <th>likes</th>\n",
       "      <th>retweet_count</th>\n",
       "      <th>source</th>\n",
       "      <th>user_id</th>\n",
       "      <th>user_name</th>\n",
       "      <th>user_screen_name</th>\n",
       "      <th>user_description</th>\n",
       "      <th>...</th>\n",
       "      <th>user_location</th>\n",
       "      <th>lat</th>\n",
       "      <th>long</th>\n",
       "      <th>city</th>\n",
       "      <th>country</th>\n",
       "      <th>continent</th>\n",
       "      <th>state</th>\n",
       "      <th>state_code</th>\n",
       "      <th>collected_at</th>\n",
       "      <th>candidat</th>\n",
       "    </tr>\n",
       "  </thead>\n",
       "  <tbody>\n",
       "    <tr>\n",
       "      <th>0</th>\n",
       "      <td>2020-10-15 00:00:01</td>\n",
       "      <td>1.316529e+18</td>\n",
       "      <td>#Elecciones2020 | En #Florida: #JoeBiden dice ...</td>\n",
       "      <td>0.0</td>\n",
       "      <td>0.0</td>\n",
       "      <td>TweetDeck</td>\n",
       "      <td>3.606665e+08</td>\n",
       "      <td>El Sol Latino News</td>\n",
       "      <td>elsollatinonews</td>\n",
       "      <td>🌐 Noticias de interés para latinos de la costa...</td>\n",
       "      <td>...</td>\n",
       "      <td>Philadelphia, PA / Miami, FL</td>\n",
       "      <td>25.774270</td>\n",
       "      <td>-80.193660</td>\n",
       "      <td>NaN</td>\n",
       "      <td>United States of America</td>\n",
       "      <td>North America</td>\n",
       "      <td>Florida</td>\n",
       "      <td>FL</td>\n",
       "      <td>2020-10-21 00:00:00</td>\n",
       "      <td>TRUMP</td>\n",
       "    </tr>\n",
       "    <tr>\n",
       "      <th>1</th>\n",
       "      <td>2020-10-15 00:00:01</td>\n",
       "      <td>1.316529e+18</td>\n",
       "      <td>Usa 2020, Trump contro Facebook e Twitter: cop...</td>\n",
       "      <td>26.0</td>\n",
       "      <td>9.0</td>\n",
       "      <td>Social Mediaset</td>\n",
       "      <td>3.316176e+08</td>\n",
       "      <td>Tgcom24</td>\n",
       "      <td>MediasetTgcom24</td>\n",
       "      <td>Profilo ufficiale di Tgcom24: tutte le notizie...</td>\n",
       "      <td>...</td>\n",
       "      <td>NaN</td>\n",
       "      <td>NaN</td>\n",
       "      <td>NaN</td>\n",
       "      <td>NaN</td>\n",
       "      <td>NaN</td>\n",
       "      <td>NaN</td>\n",
       "      <td>NaN</td>\n",
       "      <td>NaN</td>\n",
       "      <td>2020-10-21 00:00:00.373216530</td>\n",
       "      <td>TRUMP</td>\n",
       "    </tr>\n",
       "    <tr>\n",
       "      <th>2</th>\n",
       "      <td>2020-10-15 00:00:02</td>\n",
       "      <td>1.316529e+18</td>\n",
       "      <td>#Trump: As a student I used to hear for years,...</td>\n",
       "      <td>2.0</td>\n",
       "      <td>1.0</td>\n",
       "      <td>Twitter Web App</td>\n",
       "      <td>8.436472e+06</td>\n",
       "      <td>snarke</td>\n",
       "      <td>snarke</td>\n",
       "      <td>Will mock for food! Freelance writer, blogger,...</td>\n",
       "      <td>...</td>\n",
       "      <td>Portland</td>\n",
       "      <td>45.520247</td>\n",
       "      <td>-122.674195</td>\n",
       "      <td>Portland</td>\n",
       "      <td>United States of America</td>\n",
       "      <td>North America</td>\n",
       "      <td>Oregon</td>\n",
       "      <td>OR</td>\n",
       "      <td>2020-10-21 00:00:00.746433060</td>\n",
       "      <td>TRUMP</td>\n",
       "    </tr>\n",
       "    <tr>\n",
       "      <th>3</th>\n",
       "      <td>2020-10-15 00:00:02</td>\n",
       "      <td>1.316529e+18</td>\n",
       "      <td>2 hours since last tweet from #Trump! Maybe he...</td>\n",
       "      <td>0.0</td>\n",
       "      <td>0.0</td>\n",
       "      <td>Trumpytweeter</td>\n",
       "      <td>8.283556e+17</td>\n",
       "      <td>Trumpytweeter</td>\n",
       "      <td>trumpytweeter</td>\n",
       "      <td>If he doesn't tweet for some time, should we b...</td>\n",
       "      <td>...</td>\n",
       "      <td>NaN</td>\n",
       "      <td>NaN</td>\n",
       "      <td>NaN</td>\n",
       "      <td>NaN</td>\n",
       "      <td>NaN</td>\n",
       "      <td>NaN</td>\n",
       "      <td>NaN</td>\n",
       "      <td>NaN</td>\n",
       "      <td>2020-10-21 00:00:01.119649591</td>\n",
       "      <td>TRUMP</td>\n",
       "    </tr>\n",
       "    <tr>\n",
       "      <th>4</th>\n",
       "      <td>2020-10-15 00:00:08</td>\n",
       "      <td>1.316529e+18</td>\n",
       "      <td>You get a tie! And you get a tie! #Trump ‘s ra...</td>\n",
       "      <td>4.0</td>\n",
       "      <td>3.0</td>\n",
       "      <td>Twitter for iPhone</td>\n",
       "      <td>4.741380e+07</td>\n",
       "      <td>Rana Abtar - رنا أبتر</td>\n",
       "      <td>Ranaabtar</td>\n",
       "      <td>Washington Correspondent, Lebanese-American ,c...</td>\n",
       "      <td>...</td>\n",
       "      <td>Washington DC</td>\n",
       "      <td>38.894992</td>\n",
       "      <td>-77.036558</td>\n",
       "      <td>Washington</td>\n",
       "      <td>United States of America</td>\n",
       "      <td>North America</td>\n",
       "      <td>District of Columbia</td>\n",
       "      <td>DC</td>\n",
       "      <td>2020-10-21 00:00:01.492866121</td>\n",
       "      <td>TRUMP</td>\n",
       "    </tr>\n",
       "  </tbody>\n",
       "</table>\n",
       "<p>5 rows × 22 columns</p>\n",
       "</div>"
      ],
      "text/plain": [
       "            created_at      tweet_id  \\\n",
       "0  2020-10-15 00:00:01  1.316529e+18   \n",
       "1  2020-10-15 00:00:01  1.316529e+18   \n",
       "2  2020-10-15 00:00:02  1.316529e+18   \n",
       "3  2020-10-15 00:00:02  1.316529e+18   \n",
       "4  2020-10-15 00:00:08  1.316529e+18   \n",
       "\n",
       "                                               tweet  likes  retweet_count  \\\n",
       "0  #Elecciones2020 | En #Florida: #JoeBiden dice ...    0.0            0.0   \n",
       "1  Usa 2020, Trump contro Facebook e Twitter: cop...   26.0            9.0   \n",
       "2  #Trump: As a student I used to hear for years,...    2.0            1.0   \n",
       "3  2 hours since last tweet from #Trump! Maybe he...    0.0            0.0   \n",
       "4  You get a tie! And you get a tie! #Trump ‘s ra...    4.0            3.0   \n",
       "\n",
       "               source       user_id              user_name user_screen_name  \\\n",
       "0           TweetDeck  3.606665e+08     El Sol Latino News  elsollatinonews   \n",
       "1    Social Mediaset   3.316176e+08                Tgcom24  MediasetTgcom24   \n",
       "2     Twitter Web App  8.436472e+06                 snarke           snarke   \n",
       "3       Trumpytweeter  8.283556e+17          Trumpytweeter    trumpytweeter   \n",
       "4  Twitter for iPhone  4.741380e+07  Rana Abtar - رنا أبتر        Ranaabtar   \n",
       "\n",
       "                                    user_description  ...  \\\n",
       "0  🌐 Noticias de interés para latinos de la costa...  ...   \n",
       "1  Profilo ufficiale di Tgcom24: tutte le notizie...  ...   \n",
       "2  Will mock for food! Freelance writer, blogger,...  ...   \n",
       "3  If he doesn't tweet for some time, should we b...  ...   \n",
       "4  Washington Correspondent, Lebanese-American ,c...  ...   \n",
       "\n",
       "                  user_location        lat        long        city  \\\n",
       "0  Philadelphia, PA / Miami, FL  25.774270  -80.193660         NaN   \n",
       "1                           NaN        NaN         NaN         NaN   \n",
       "2                      Portland  45.520247 -122.674195    Portland   \n",
       "3                           NaN        NaN         NaN         NaN   \n",
       "4                 Washington DC  38.894992  -77.036558  Washington   \n",
       "\n",
       "                    country      continent                 state state_code  \\\n",
       "0  United States of America  North America               Florida         FL   \n",
       "1                       NaN            NaN                   NaN        NaN   \n",
       "2  United States of America  North America                Oregon         OR   \n",
       "3                       NaN            NaN                   NaN        NaN   \n",
       "4  United States of America  North America  District of Columbia         DC   \n",
       "\n",
       "                    collected_at candidat  \n",
       "0            2020-10-21 00:00:00    TRUMP  \n",
       "1  2020-10-21 00:00:00.373216530    TRUMP  \n",
       "2  2020-10-21 00:00:00.746433060    TRUMP  \n",
       "3  2020-10-21 00:00:01.119649591    TRUMP  \n",
       "4  2020-10-21 00:00:01.492866121    TRUMP  \n",
       "\n",
       "[5 rows x 22 columns]"
      ]
     },
     "execution_count": 4,
     "metadata": {},
     "output_type": "execute_result"
    }
   ],
   "source": [
    "all_tweets.head()"
   ]
  },
  {
   "cell_type": "code",
   "execution_count": 5,
   "metadata": {},
   "outputs": [
    {
     "data": {
      "text/plain": [
       "created_at              1747805\n",
       "tweet_id                1747805\n",
       "tweet                   1747805\n",
       "likes                   1747805\n",
       "retweet_count           1747805\n",
       "source                  1746216\n",
       "user_id                 1747805\n",
       "user_name               1747771\n",
       "user_screen_name        1747805\n",
       "user_description        1564533\n",
       "user_join_date          1747805\n",
       "user_followers_count    1747805\n",
       "user_location           1219061\n",
       "lat                      801012\n",
       "long                     801012\n",
       "city                     414059\n",
       "country                  796527\n",
       "continent                796562\n",
       "state                    580815\n",
       "state_code               545034\n",
       "collected_at            1747805\n",
       "candidat                1747805\n",
       "dtype: int64"
      ]
     },
     "execution_count": 5,
     "metadata": {},
     "output_type": "execute_result"
    }
   ],
   "source": [
    "all_tweets.count()"
   ]
  },
  {
   "cell_type": "code",
   "execution_count": 6,
   "metadata": {},
   "outputs": [],
   "source": [
    "# delete unnecessary columns\n",
    "trump_tweets = trump_tweets.drop(columns = ['user_join_date','user_followers_count','likes','retweet_count','source','user_description','user_location','collected_at','lat','long'])\n",
    "biden_tweets = biden_tweets.drop(columns = ['user_join_date','user_followers_count','likes','retweet_count','source','user_description','user_location','collected_at','lat','long'])\n",
    "all_tweets = all_tweets.drop(columns = ['user_join_date','user_followers_count','likes','retweet_count','source','user_description','user_location','collected_at','lat','long'])"
   ]
  },
  {
   "cell_type": "code",
   "execution_count": 7,
   "metadata": {},
   "outputs": [
    {
     "name": "stdout",
     "output_type": "stream",
     "text": [
      "Total Number of TRUMP Tweets: 970919 \n",
      "\n",
      "Number of tweets - one tweet per person: 301378\n",
      "\n",
      "-----------------------------------\n",
      "\n",
      "Total Number of BIDEN Tweets: 776886 \n",
      "\n",
      "Number of tweets - one tweet per person: 316073\n"
     ]
    }
   ],
   "source": [
    "trump_tweets_nd = trump_tweets.drop_duplicates(subset='user_id', keep='last')\n",
    "biden_tweets_nd = biden_tweets.drop_duplicates(subset='user_id', keep='last')\n",
    "\n",
    "n = trump_tweets['tweet'].count()\n",
    "t = trump_tweets_nd['tweet'].count()\n",
    "\n",
    "k = biden_tweets['tweet'].count()\n",
    "h = biden_tweets_nd['tweet'].count()\n",
    "\n",
    "print('Total Number of TRUMP Tweets:',n,'\\n')\n",
    "print('Number of tweets - one tweet per person:',t)\n",
    "print('\\n-----------------------------------\\n')\n",
    "print('Total Number of BIDEN Tweets:',k,'\\n')\n",
    "print('Number of tweets - one tweet per person:',h)"
   ]
  },
  {
   "cell_type": "markdown",
   "metadata": {},
   "source": [
    "## Top 10 tweeting countries"
   ]
  },
  {
   "cell_type": "code",
   "execution_count": 8,
   "metadata": {},
   "outputs": [],
   "source": [
    "trump_tweets['country'].replace({'United States': 'United States of America'}, inplace=True)\n",
    "biden_tweets['country'].replace({'United States': 'United States of America'}, inplace=True)\n",
    "all_tweets['country'].replace({'United States': 'United States of America'}, inplace=True)"
   ]
  },
  {
   "cell_type": "code",
   "execution_count": 9,
   "metadata": {},
   "outputs": [
    {
     "name": "stdout",
     "output_type": "stream",
     "text": [
      "Top ten countries all tweets:\n",
      "\n",
      " Geo Data NA                 829867\n",
      "United States of America    356479\n",
      "United Kingdom               50854\n",
      "India                        31759\n",
      "Germany                      29657\n",
      "France                       27961\n",
      "Canada                       24913\n",
      "Italy                        16622\n",
      "Australia                    13399\n",
      "Mexico                        8667\n",
      "Name: country, dtype: int64\n",
      "\n",
      " Number of different countries: 189\n",
      "\n",
      "-----------------------------------\n",
      "\n",
      "Top ten countries Trump tweets:\n",
      "\n",
      " Geo Data NA                 528171\n",
      "United States of America    213263\n",
      "United Kingdom               34743\n",
      "Germany                      22618\n",
      "France                       20689\n",
      "India                        18559\n",
      "Canada                       16996\n",
      "Italy                        11206\n",
      "Australia                     9365\n",
      "Mexico                        5811\n",
      "Name: country, dtype: int64\n",
      "\n",
      " Number of different countries: 185\n",
      "\n",
      "-----------------------------------\n",
      "\n",
      "Top ten countries Biden tweets:\n",
      "\n",
      " Geo Data NA                 423107\n",
      "United States of America    181137\n",
      "United Kingdom               23308\n",
      "India                        21532\n",
      "France                       14610\n",
      "Germany                      12761\n",
      "Canada                       10809\n",
      "Italy                         8870\n",
      "Australia                     5534\n",
      "Mexico                        5092\n",
      "Name: country, dtype: int64\n",
      "\n",
      " Number of different countries: 185\n"
     ]
    }
   ],
   "source": [
    "# fill the country column if there is no entry\n",
    "all_tweets['country'] = all_tweets['country'].fillna('Geo Data NA')\n",
    "trump_tweets['country'] = trump_tweets['country'].fillna('Geo Data NA')\n",
    "biden_tweets['country'] = biden_tweets['country'].fillna('Geo Data NA')\n",
    "\n",
    "all_tweets_nd = all_tweets.drop_duplicates(subset=\"tweet_id\")\n",
    "\n",
    "n = all_tweets_nd['country'].value_counts().head(10)\n",
    "t = len(pd.unique(all_tweets_nd['country']))\n",
    "\n",
    "k = trump_tweets['country'].value_counts().head(10)\n",
    "h = len(pd.unique(trump_tweets['country']))\n",
    "\n",
    "g = biden_tweets['country'].value_counts().head(10)\n",
    "f = len(pd.unique(biden_tweets['country']))\n",
    "\n",
    "print('Top ten countries all tweets:\\n\\n',n)\n",
    "print('\\n Number of different countries:',t)\n",
    "print('\\n-----------------------------------\\n')\n",
    "print('Top ten countries Trump tweets:\\n\\n',k)\n",
    "print('\\n Number of different countries:',h)\n",
    "print('\\n-----------------------------------\\n')\n",
    "print('Top ten countries Biden tweets:\\n\\n',g)\n",
    "print('\\n Number of different countries:',f)"
   ]
  },
  {
   "cell_type": "code",
   "execution_count": 10,
   "metadata": {},
   "outputs": [
    {
     "data": {
      "text/plain": [
       "<AxesSubplot:>"
      ]
     },
     "execution_count": 10,
     "metadata": {},
     "output_type": "execute_result"
    },
    {
     "data": {
      "image/png": "[encoded data removed]",
      "text/plain": [
       "<Figure size 432x288 with 1 Axes>"
      ]
     },
     "metadata": {
      "needs_background": "light"
     },
     "output_type": "display_data"
    }
   ],
   "source": [
    "all_tweets_nd.loc[all_tweets_nd.country != 'Geo Data NA']['country'].value_counts().head(10).plot(kind='bar')"
   ]
  },
  {
   "cell_type": "markdown",
   "metadata": {},
   "source": [
    "#### insert barplot of top five countries trump/biden"
   ]
  },
  {
   "cell_type": "code",
   "execution_count": 52,
   "metadata": {},
   "outputs": [
    {
     "name": "stdout",
     "output_type": "stream",
     "text": [
      "Number of Tweets from the US: 1747805 \n",
      "\n",
      "Number of Tweets for each candidat:\n",
      " TRUMP    970919\n",
      "BIDEN    776886\n",
      "Name: candidat, dtype: int64 \n",
      "\n",
      "Unique Trump Users: 301378 \n",
      "\n",
      "Unique Biden Users: 316073 \n",
      "\n",
      "Unique Users in the whole Dataset: 483212 \n",
      "\n"
     ]
    }
   ],
   "source": [
    "n = all_tweets['tweet'].count()\n",
    "t = all_tweets['candidat'].value_counts()\n",
    "k = len(pd.unique(all_tweets['user_id']))\n",
    "\n",
    "b = all_tweets[all_tweets.candidat == 'TRUMP']\n",
    "h = len(pd.unique(b['user_id']))\n",
    "\n",
    "a = all_tweets[all_tweets.candidat == 'BIDEN']\n",
    "g = len(pd.unique(a['user_id']))\n",
    "\n",
    "f = all_tweets['user_name'].value_counts().head(10)\n",
    "\n",
    "print('Number of Tweets from the US:',n,'\\n')\n",
    "print('Number of Tweets for each candidat:\\n',t,'\\n')\n",
    "print('Unique Trump Users:',h,'\\n')\n",
    "print('Unique Biden Users:',g,'\\n')\n",
    "print('Unique Users in the whole Dataset:',k,'\\n')"
   ]
  },
  {
   "cell_type": "markdown",
   "metadata": {},
   "source": [
    "## Top 10 tweeting users"
   ]
  },
  {
   "cell_type": "code",
   "execution_count": 11,
   "metadata": {},
   "outputs": [
    {
     "name": "stdout",
     "output_type": "stream",
     "text": [
      "Top ten users all tweets :\n",
      "\n",
      " Revue2presse                    1352\n",
      "Global News Report              1325\n",
      "VOTE BLUE Steve Ziegenbusch👑    1259\n",
      "t Logan                         1232\n",
      "Jonathan Greenberg              1076\n",
      "yojo                             985\n",
      "Scott McLeod (he, him, his)      980\n",
      "Hotpage News                     927\n",
      "THCPetDoctor                     913\n",
      "TheCupofJoeintheD                901\n",
      "Name: user_name, dtype: int64\n",
      "\n",
      " Number of different users: 483193\n",
      "\n",
      "-----------------------------------\n",
      "\n",
      "Top ten users Trump tweets:\n",
      "\n",
      " Revue2presse                                          1352\n",
      "Global News Report                                    1325\n",
      "Scott McLeod (he, him, his)                            980\n",
      "t Logan                                                964\n",
      "Hotpage News                                           921\n",
      "THCPetDoctor                                           913\n",
      "TheCupofJoeintheD                                      901\n",
      "Maureen Devlin                                         852\n",
      "Starbright489 #OnePersonOneVote #DoWillOfThePeople     794\n",
      "KK_10                                                  760\n",
      "Name: user_name, dtype: int64\n",
      "\n",
      " Number of different users: 301378\n",
      "\n",
      "-----------------------------------\n",
      "\n",
      "Top ten users Biden tweets:\n",
      "\n",
      " VOTE BLUE Steve Ziegenbusch👑    1259\n",
      "Revue2presse                    1163\n",
      "Jonathan Greenberg              1076\n",
      "yojo                             945\n",
      "Hotpage News                     922\n",
      "oxforduk                         640\n",
      "Gordon Liddy🔞🧨🍸🇦🇺                486\n",
      "Election Poll Average Bot        477\n",
      "Ginger Kitty                     460\n",
      "Mostly Peaceful Citizen          455\n",
      "Name: user_name, dtype: int64\n",
      "\n",
      " Number of different users: 316073\n"
     ]
    }
   ],
   "source": [
    "n = all_tweets_nd['user_name'].value_counts().head(10)\n",
    "t = len(pd.unique(all_tweets_nd['user_id']))\n",
    "\n",
    "k = trump_tweets['user_name'].value_counts().head(10)\n",
    "h = len(pd.unique(trump_tweets['user_id']))\n",
    "\n",
    "g = biden_tweets['user_name'].value_counts().head(10)\n",
    "f = len(pd.unique(biden_tweets['user_id']))\n",
    "\n",
    "print('Top ten users all tweets :\\n\\n',n)\n",
    "print('\\n Number of different users:',t)\n",
    "print('\\n-----------------------------------\\n')\n",
    "print('Top ten users Trump tweets:\\n\\n',k)\n",
    "print('\\n Number of different users:',h)\n",
    "print('\\n-----------------------------------\\n')\n",
    "print('Top ten users Biden tweets:\\n\\n',g)\n",
    "print('\\n Number of different users:',f)"
   ]
  },
  {
   "cell_type": "code",
   "execution_count": 12,
   "metadata": {},
   "outputs": [
    {
     "data": {
      "text/plain": [
       "<AxesSubplot:>"
      ]
     },
     "execution_count": 12,
     "metadata": {},
     "output_type": "execute_result"
    },
    {
     "name": "stderr",
     "output_type": "stream",
     "text": [
      "/home/andyman/anaconda3/lib/python3.8/site-packages/matplotlib/backends/backend_agg.py:238: RuntimeWarning: Glyph 128081 missing from current font.\n",
      "  font.set_text(s, 0.0, flags=flags)\n",
      "/home/andyman/anaconda3/lib/python3.8/site-packages/matplotlib/backends/backend_agg.py:201: RuntimeWarning: Glyph 128081 missing from current font.\n",
      "  font.set_text(s, 0, flags=flags)\n"
     ]
    },
    {
     "data": {
      "image/png": "[encoded data removed]",
      "text/plain": [
       "<Figure size 432x288 with 1 Axes>"
      ]
     },
     "metadata": {
      "needs_background": "light"
     },
     "output_type": "display_data"
    }
   ],
   "source": [
    "all_tweets_nd['user_name'].value_counts().head(10).plot(kind='bar')"
   ]
  },
  {
   "cell_type": "markdown",
   "metadata": {},
   "source": [
    "## US tweets statistics"
   ]
  },
  {
   "cell_type": "code",
   "execution_count": 13,
   "metadata": {},
   "outputs": [
    {
     "name": "stdout",
     "output_type": "stream",
     "text": [
      "Number of Tweets from the US: 356495 \n",
      "\n",
      "Number of unique Users: 86964 \n",
      "\n",
      "Top ten US Users:\n",
      " VOTE BLUE Steve Ziegenbusch👑                          1259\n",
      "Jonathan Greenberg                                    1076\n",
      "Scott McLeod (he, him, his)                            980\n",
      "Hotpage News                                           927\n",
      "THCPetDoctor                                           913\n",
      "Maureen Devlin                                         856\n",
      "Starbright489 #OnePersonOneVote #DoWillOfThePeople     794\n",
      "Presidential News Network                              709\n",
      "KD Webster                                             656\n",
      "snarke                                                 593\n",
      "Name: user_name, dtype: int64 \n",
      "\n",
      "Tweets per State:\n",
      " California                  51767\n",
      "New York                    39242\n",
      "Texas                       27728\n",
      "Florida                     27176\n",
      "District of Columbia        14618\n",
      "Pennsylvania                11279\n",
      "Illinois                    11127\n",
      "New Jersey                   8291\n",
      "Massachusetts                7812\n",
      "Ohio                         7682\n",
      "North Carolina               5850\n",
      "Colorado                     5797\n",
      "Arizona                      5665\n",
      "Michigan                     5587\n",
      "Georgia                      5346\n",
      "Oregon                       4942\n",
      "Washington                   4455\n",
      "Virginia                     4306\n",
      "Nevada                       4128\n",
      "Tennessee                    3929\n",
      "Maryland                     3863\n",
      "Missouri                     3710\n",
      "Minnesota                    3171\n",
      "Wisconsin                    2893\n",
      "Indiana                      2678\n",
      "Kentucky                     2410\n",
      "South Carolina               2028\n",
      "Louisiana                    1945\n",
      "Connecticut                  1826\n",
      "Kansas                       1654\n",
      "Utah                         1614\n",
      "Alabama                      1562\n",
      "Oklahoma                     1461\n",
      "Iowa                         1335\n",
      "Hawaii                       1271\n",
      "Vermont                      1075\n",
      "Arkansas                      978\n",
      "Idaho                         932\n",
      "Puerto Rico                   900\n",
      "New Mexico                    867\n",
      "North Dakota                  712\n",
      "Nebraska                      689\n",
      "Alaska                        682\n",
      "Maine                         659\n",
      "New Hampshire                 610\n",
      "West Virginia                 601\n",
      "Delaware                      538\n",
      "Rhode Island                  459\n",
      "Wyoming                       446\n",
      "Mississippi                   442\n",
      "Montana                       434\n",
      "South Dakota                  150\n",
      "Guam                            8\n",
      "Northern Mariana Islands        1\n",
      "Name: state, dtype: int64 \n",
      "\n",
      "Tweets per City:\n",
      " New York         33724\n",
      "Los Angeles      15120\n",
      "Washington       14377\n",
      "Chicago           7236\n",
      "San Francisco     4930\n",
      "Atlanta           3959\n",
      "Miami             3863\n",
      "Boston            3820\n",
      "Houston           3800\n",
      "Philadelphia      3700\n",
      "San Diego         3306\n",
      "Las Vegas         2862\n",
      "Dallas            2802\n",
      "Seattle           2793\n",
      "Portland          2486\n",
      "Name: city, dtype: int64 \n",
      "\n"
     ]
    }
   ],
   "source": [
    "us_tweets = all_tweets[all_tweets.country == 'United States of America']\n",
    "us_tweets_nd = us_tweets.drop_duplicates(subset=\"tweet_id\", keep='first')\n",
    "\n",
    "n = us_tweets_nd['tweet'].count()\n",
    "t = len(pd.unique(us_tweets_nd['user_id']))\n",
    "k = us_tweets_nd['user_name'].value_counts().head(10)\n",
    "h = us_tweets_nd['state'].value_counts()\n",
    "g = us_tweets_nd['city'].value_counts().head(15)\n",
    "\n",
    "print('Number of Tweets from the US:',n,'\\n')\n",
    "print('Number of unique Users:',t,'\\n')\n",
    "print('Top ten US Users:\\n',k,'\\n')\n",
    "print('Tweets per State:\\n',h,'\\n')\n",
    "print('Tweets per City:\\n',g,'\\n')"
   ]
  },
  {
   "cell_type": "code",
   "execution_count": 14,
   "metadata": {
    "scrolled": false
   },
   "outputs": [
    {
     "name": "stdout",
     "output_type": "stream",
     "text": [
      "Number of Tweets from the US: 318720 \n",
      "\n",
      "Number of Tweets for each candidat:\n",
      " TRUMP    175545\n",
      "BIDEN    143175\n",
      "Name: candidat, dtype: int64 \n",
      "\n",
      "Unique Trump Users: 41131 \n",
      "\n",
      "Unique Biden Users: 53562 \n",
      "\n",
      "Unique Users in the whole Dataset: 81479 \n",
      "\n",
      "Top ten US Users:\n",
      " VOTE BLUE Steve Ziegenbusch👑                          1259\n",
      "Jonathan Greenberg                                    1070\n",
      "Scott McLeod (he, him, his)                            980\n",
      "THCPetDoctor                                           913\n",
      "Maureen Devlin                                         850\n",
      "Starbright489 #OnePersonOneVote #DoWillOfThePeople     737\n",
      "Presidential News Network                              709\n",
      "snarke                                                 549\n",
      "joshua epstein🏳️‍🌈🖖🏼🗽👨🏼‍💻🇺🇸                            529\n",
      "PulpNews Crime                                         523\n",
      "Name: user_name, dtype: int64 \n",
      "\n"
     ]
    }
   ],
   "source": [
    "us_tweets = us_tweets.drop_duplicates(subset=\"tweet_id\", keep=False)\n",
    "\n",
    "n = us_tweets['tweet'].count()\n",
    "t = us_tweets['candidat'].value_counts()\n",
    "k = len(pd.unique(us_tweets['user_id']))\n",
    "\n",
    "b = us_tweets[us_tweets.candidat == 'TRUMP']\n",
    "h = len(pd.unique(b['user_id']))\n",
    "\n",
    "a = us_tweets[us_tweets.candidat == 'BIDEN']\n",
    "g = len(pd.unique(a['user_id']))\n",
    "\n",
    "f = us_tweets['user_name'].value_counts().head(10)\n",
    "\n",
    "print('Number of Tweets from the US:',n,'\\n')\n",
    "print('Number of Tweets for each candidat:\\n',t,'\\n')\n",
    "print('Unique Trump Users:',h,'\\n')\n",
    "print('Unique Biden Users:',g,'\\n')\n",
    "print('Unique Users in the whole Dataset:',k,'\\n')\n",
    "print('Top ten US Users:\\n',f,'\\n')"
   ]
  },
  {
   "cell_type": "markdown",
   "metadata": {},
   "source": [
    "## Voter tweets"
   ]
  },
  {
   "cell_type": "code",
   "execution_count": null,
   "metadata": {},
   "outputs": [],
   "source": [
    "# create a new file with the unique user ids from the us_tweets df\n",
    "\n",
    "#trump_tweeters=b.drop_duplicates(subset=\"user_id\", keep='last')\n",
    "#biden_tweeters=a.drop_duplicates(subset=\"user_id\", keep='last')\n",
    "\n",
    "#uniqe_tweeters = pd.concat([trump_tweeters,biden_tweeters])\n",
    "#uniqe_tweeters.to_csv('us_tweets_unique.csv')"
   ]
  },
  {
   "cell_type": "markdown",
   "metadata": {},
   "source": [
    "At this point i switched to openrefine. I loaded the 'us_tweets_unique.csv' file and created a new project.\n",
    "\n",
    "The goal was to obtain one tweet per person to get a df containing all the voters. The problem is that i have 13214 users with a tweet in both datasets. This is indicated by the number of unique users for Trump/Biden and the whole dataset.\n",
    "\n",
    "Unique Trump Users: 41131 + Unique Biden Users: 53562 = 94693\n",
    "\n",
    "Unique Users in the whole Dataset: 81479\n",
    "\n",
    "94693 - 81479 = 13214\n",
    "\n",
    "However if i just do drop.duplicates it would delete them only from Trump because his tweets are first in the us_tweets df. To balance this i need to remove 6607 tweets from each candidat respectivly.\n",
    "\n",
    "The steps that i took in openrefine were:\n",
    "1. Get all the duplicate user_id entires\n",
    "2. Delete the other rows - that left me with 26428 rows\n",
    "3. Reorder the rows - sort by: user_id ascending\n",
    "4. Now i got a file with all the tweets from users that have a tweet for Trump and Biden\n",
    "5. Split Trump and Biden Tweets (each file has exactly 13214 rows and is orderd the same way: so user 1 is the first entry in both data sets)\n",
    "\n",
    "Now i have two files, each containing tweets for Trump and Biden from the same users."
   ]
  },
  {
   "cell_type": "code",
   "execution_count": 15,
   "metadata": {},
   "outputs": [
    {
     "name": "stdout",
     "output_type": "stream",
     "text": [
      "Unique Trump Tweets before removal: 41131 \n",
      "\n",
      "Unique Trump Users after removal: 34524 \n",
      "\n"
     ]
    }
   ],
   "source": [
    "# load the file and get the first 6607 entries\n",
    "el_Tr = pd.read_csv('us_tweets-X_TRUMP.csv', lineterminator='\\n',  encoding='latin-1')\n",
    "el_Tr = el_Tr[:6607]\n",
    "\n",
    "# drop the duplicate user_id's and keep the last one\n",
    "b = b.drop_duplicates(subset='user_id',keep='last')\n",
    "n=(len(pd.unique(b['user_id'])))\n",
    "\n",
    "# concat the two df's and drop all duplicates of the user id's and keep none\n",
    "tr_temp = pd.concat([el_Tr,b])\n",
    "tr_temp = tr_temp.drop_duplicates(subset=\"user_id\", keep= False)\n",
    "t=(len(pd.unique(tr_temp['user_id'])))\n",
    "\n",
    "print('Unique Trump Tweets before removal:',n,'\\n')\n",
    "print('Unique Trump Users after removal:',t,'\\n')"
   ]
  },
  {
   "cell_type": "code",
   "execution_count": 16,
   "metadata": {},
   "outputs": [
    {
     "name": "stdout",
     "output_type": "stream",
     "text": [
      "Unique Biden Tweets before removal: 53562 \n",
      "\n",
      "Unique Biden Users after removal: 46955 \n",
      "\n"
     ]
    }
   ],
   "source": [
    "# load the file and get the last 6607 entries\n",
    "el_B = pd.read_csv('us_tweets-X_BIDEN.csv', lineterminator='\\n',  encoding='latin-1')\n",
    "el_B = el_B[-6607:]\n",
    "\n",
    "# drop the duplicate user_id's and keep the last one\n",
    "a = a.drop_duplicates(subset='user_id',keep='last')\n",
    "n=(len(pd.unique(a['user_id'])))\n",
    "\n",
    "# concat the two df's and drop all duplicates of the user id's and keep none\n",
    "b_temp = pd.concat([el_B,a])\n",
    "b_temp = b_temp.drop_duplicates(subset=\"user_id\", keep=False)\n",
    "t=(len(pd.unique(b_temp['user_id'])))\n",
    "\n",
    "print('Unique Biden Tweets before removal:',n,'\\n')\n",
    "print('Unique Biden Users after removal:',t,'\\n')"
   ]
  },
  {
   "cell_type": "code",
   "execution_count": 17,
   "metadata": {},
   "outputs": [
    {
     "name": "stdout",
     "output_type": "stream",
     "text": [
      "Number of Voters: 81479 \n",
      "\n",
      "Data Count:\n",
      " created_at          81479\n",
      "tweet_id            81479\n",
      "tweet               81479\n",
      "user_id             81479\n",
      "user_name           81478\n",
      "city                43077\n",
      "country             81479\n",
      "continent           81479\n",
      "state               71479\n",
      "candidat            81479\n",
      "user_screen_name    81479\n",
      "state_code          71479\n",
      "dtype: int64 \n",
      "\n",
      "Number of Tweets for each candidat:\n",
      " BIDEN    46955\n",
      "TRUMP    34524\n",
      "Name: candidat, dtype: int64 \n",
      "\n",
      "Tweets per State:\n",
      " California                  12288\n",
      "New York                     8493\n",
      "Texas                        7107\n",
      "Florida                      5737\n",
      "Illinois                     2857\n",
      "Pennsylvania                 2493\n",
      "District of Columbia         2448\n",
      "Ohio                         1745\n",
      "Massachusetts                1710\n",
      "New Jersey                   1680\n",
      "North Carolina               1676\n",
      "Georgia                      1590\n",
      "Arizona                      1576\n",
      "Michigan                     1539\n",
      "Colorado                     1317\n",
      "Washington                   1218\n",
      "Tennessee                    1180\n",
      "Virginia                     1088\n",
      "Oregon                       1032\n",
      "Maryland                     1013\n",
      "Nevada                        954\n",
      "Missouri                      893\n",
      "Minnesota                     860\n",
      "Wisconsin                     746\n",
      "Indiana                       730\n",
      "Kentucky                      619\n",
      "South Carolina                601\n",
      "Louisiana                     595\n",
      "Alabama                       490\n",
      "Connecticut                   487\n",
      "Kansas                        445\n",
      "Oklahoma                      414\n",
      "Iowa                          398\n",
      "Utah                          381\n",
      "New Mexico                    270\n",
      "Arkansas                      267\n",
      "Hawaii                        254\n",
      "New Hampshire                 219\n",
      "Nebraska                      200\n",
      "Maine                         186\n",
      "Idaho                         183\n",
      "Rhode Island                  181\n",
      "West Virginia                 179\n",
      "Puerto Rico                   170\n",
      "Mississippi                   162\n",
      "Delaware                      153\n",
      "North Dakota                  147\n",
      "Alaska                        132\n",
      "Montana                       115\n",
      "Wyoming                       107\n",
      "Vermont                       102\n",
      "South Dakota                   44\n",
      "Guam                            7\n",
      "Northern Mariana Islands        1\n",
      "Name: state, dtype: int64 \n",
      "\n",
      "Tweets per City:\n",
      " New York         7302\n",
      "Los Angeles      4273\n",
      "Washington       2435\n",
      "Chicago          1969\n",
      "Atlanta          1276\n",
      "San Francisco    1196\n",
      "Houston          1073\n",
      "Philadelphia      937\n",
      "Boston            937\n",
      "Seattle           855\n",
      "Name: city, dtype: int64 \n",
      "\n"
     ]
    }
   ],
   "source": [
    "voter_tweets = pd.concat([tr_temp,b_temp])\n",
    "\n",
    "# columns introduced from the 'us_tweets-X_TRUMP.csv' and 'us_tweets-X_BIDEN.csv' files but contain no values\n",
    "voter_tweets = voter_tweets.drop(columns = ['Column','lat','long'])\n",
    "\n",
    "n = len(pd.unique(voter_tweets['user_id']))\n",
    "t = voter_tweets.count()\n",
    "k = voter_tweets['candidat'].value_counts()\n",
    "h = voter_tweets['state'].value_counts()\n",
    "g = voter_tweets['city'].value_counts().head(10)\n",
    "\n",
    "print('Number of Voters:',n,'\\n')\n",
    "print('Data Count:\\n',t,'\\n')\n",
    "print('Number of Tweets for each candidat:\\n',k,'\\n')\n",
    "print('Tweets per State:\\n',h,'\\n')\n",
    "print('Tweets per City:\\n',g,'\\n')"
   ]
  },
  {
   "cell_type": "markdown",
   "metadata": {},
   "source": [
    "## Common users & tweets\n",
    "\n",
    "The common_users df consists of tweets from users that have a tweet in both datasets."
   ]
  },
  {
   "cell_type": "code",
   "execution_count": 18,
   "metadata": {
    "scrolled": true
   },
   "outputs": [
    {
     "name": "stdout",
     "output_type": "stream",
     "text": [
      "Common users:\n",
      " created_at          937838\n",
      "tweet_id            937838\n",
      "tweet               937838\n",
      "user_id             937838\n",
      "user_name           937820\n",
      "user_screen_name    937838\n",
      "city                230047\n",
      "country             937838\n",
      "continent           450364\n",
      "state               327731\n",
      "state_code          308341\n",
      "candidat            937838\n",
      "dtype: int64 \n",
      "\n",
      "Unique users:\n",
      " created_at          585091\n",
      "tweet_id            585091\n",
      "tweet               585091\n",
      "user_id             585091\n",
      "user_name           585076\n",
      "user_screen_name    585091\n",
      "city                127383\n",
      "country             585091\n",
      "continent           242715\n",
      "state               182201\n",
      "state_code          171978\n",
      "candidat            585091\n",
      "dtype: int64 \n",
      "\n"
     ]
    }
   ],
   "source": [
    "# get the common user id's from both data sets\n",
    "common_uid=np.intersect1d(biden_tweets.user_id, trump_tweets.user_id)\n",
    "\n",
    "# create data frames with users that only tweeted about trump or biden\n",
    "unique_users_t = trump_tweets[~trump_tweets.user_id.isin(common_uid)].copy()\n",
    "unique_users_b = biden_tweets[~biden_tweets.user_id.isin(common_uid)].copy()\n",
    "\n",
    "# create data frame with users that tweeted about trump and biden\n",
    "common_users_b = biden_tweets[biden_tweets.user_id.isin(common_uid)].copy()\n",
    "common_users_t = trump_tweets[trump_tweets.user_id.isin(common_uid)].copy()\n",
    "\n",
    "common_users = pd.concat([common_users_b,common_users_t])\n",
    "common_users = common_users.drop_duplicates(subset='tweet_id')\n",
    "\n",
    "unique_users = pd.concat([unique_users_t,unique_users_b])\n",
    "unique_users = unique_users.drop_duplicates(subset='tweet_id')\n",
    "\n",
    "n = common_users.count()\n",
    "t = unique_users.count()\n",
    "\n",
    "print('Common users:\\n',n,'\\n')\n",
    "print('Unique users:\\n',t,'\\n')"
   ]
  },
  {
   "cell_type": "code",
   "execution_count": 19,
   "metadata": {},
   "outputs": [
    {
     "data": {
      "text/plain": [
       "created_at          221700\n",
       "tweet_id            221700\n",
       "tweet               221700\n",
       "user_id             221700\n",
       "user_name           221699\n",
       "user_screen_name    221700\n",
       "city                 56031\n",
       "country             221700\n",
       "continent           102052\n",
       "state                70069\n",
       "state_code           63953\n",
       "candidat            221700\n",
       "dtype: int64"
      ]
     },
     "execution_count": 19,
     "metadata": {},
     "output_type": "execute_result"
    }
   ],
   "source": [
    "# get the common tweet id's from both data sets\n",
    "common_tid = np.intersect1d(biden_tweets.tweet_id, trump_tweets.tweet_id)\n",
    "\n",
    "# create data frame with users that used both hashtags\n",
    "common_twb = biden_tweets[biden_tweets.tweet_id.isin(common_tid)].copy()\n",
    "common_twt = trump_tweets[trump_tweets.tweet_id.isin(common_tid)].copy()\n",
    "\n",
    "common_tweets = pd.concat([common_twb,common_twt])\n",
    "common_tweets = common_tweets.drop_duplicates(subset='tweet_id')\n",
    "common_tweets.count()"
   ]
  },
  {
   "cell_type": "markdown",
   "metadata": {},
   "source": [
    "# 2. Data Preprocessing"
   ]
  },
  {
   "cell_type": "code",
   "execution_count": 20,
   "metadata": {},
   "outputs": [],
   "source": [
    "# replace common contractions and abbreviations\n",
    "def repl_contract(text):\n",
    "    \n",
    "    text = text.lower()\n",
    "    cont = {\n",
    "        \"aren't\" : 'are not',\n",
    "        \"can't\" : 'cannot',\n",
    "        \"couldn't\" : 'could not',\n",
    "        \"don't\" : \"do not\",\n",
    "        \"didn't\" : 'did not',\n",
    "        \"doesn't\" : 'does not',\n",
    "        \"hadn't\" : 'had not',\n",
    "        \"haven't\" : 'have not',\n",
    "        \"hasn't\" : \"has not\",\n",
    "        \"how's\" : \"how is\",\n",
    "        \"he's\" : 'he is',\n",
    "        \"she's\" : 'she is',\n",
    "        \"he'll\" : \"he will\",        \n",
    "        \"she'll\" : 'she will',\n",
    "        \"he'd\" : \"he would\",\n",
    "        \"she'd\" : \"she would\",\n",
    "        \"here's\" : \"here is\", \n",
    "        \"i'm\" : 'i am',\n",
    "        \"i've\" : \"i have\",\n",
    "        \"i'll\" : \"i will\",\n",
    "        \"i'd\" : \"i would\",\n",
    "        \"isn't\": \"is not\", \n",
    "        \"it's\" : \"it is\",\n",
    "        \"it'll\" : \"it will\",\n",
    "        \"mustn't\" : \"must not\",\n",
    "        \"shouldn't\" : \"should not\",\n",
    "        \"that's\" : \"that is\", \n",
    "        \"there's\" : \"there is\",\n",
    "        \"they're\" : \"they are\",\n",
    "        \"they've\" : \"they have\",\n",
    "        \"they'll\" : \"they will\",\n",
    "        \"they'd\" : \"they would\",\n",
    "        \"wasn't\" : \"was not\",\n",
    "        \"we're\" : \"we are\",\n",
    "        \"we've\" : \"we have\",\n",
    "        \"we'll\" : \"we will\", \n",
    "        \"we'd\" : \"we would\",\n",
    "        \"weren't\" : \"were not\",\n",
    "        \"what's\" : \"what is\",\n",
    "        \"when's\" : \"when is\",\n",
    "        \"why's\" : \"why is\",\n",
    "        \"where's\" : \"where is\",\n",
    "        \"who's\" : \"who is\",\n",
    "        \"who'll\" : \"who will\",\n",
    "        \"won't\" : \"will not\",\n",
    "        \"wouldn't\" : \"would not\",\n",
    "        \"you're\" : \"you are\",\n",
    "        \"you've\" : \"you have\",\n",
    "        \"you'll\" : \"you will\",\n",
    "        \"you'd\" : \"you would\",\n",
    "        \"mayn't\" : \"may not\",\n",
    "        \"4\" : \"for\",\n",
    "        \"2\" : \"to\",\n",
    "        \"1\" : \"one\",\n",
    "        \"u\" : \"you\",\n",
    "        \"r\" : \"are\",\n",
    "        \"amp\" : \"\",\n",
    "        \"re\" : \"\",\n",
    "        \"gimme\" : \"give me\",\n",
    "        \"gonna\" : \"going to\",\n",
    "        \"cause\" : \"because\",\n",
    "        \"imma\" : \"i am going to\",\n",
    "        \"wanna\" : \"want to\",\n",
    "        \"gotta\" : \"got to\",\n",
    "        \"woulda\" : \"would have\",\n",
    "        \"coulda\" : \"could have\",\n",
    "        \"shoulda\" : \"should have\",\n",
    "        \"let's\" : \"let us\",\n",
    "        \"y'all\" : \"you all\",\n",
    "            }\n",
    "    \n",
    "    cleaned_text = []\n",
    "    words = text.split()\n",
    "    \n",
    "    for word in words:\n",
    "        if word in cont:\n",
    "            cleaned_text.append(cont[word])\n",
    "        else:\n",
    "            cleaned_text.append(word)\n",
    "    text = ' '.join(cleaned_text)\n",
    "        \n",
    "    return text"
   ]
  },
  {
   "cell_type": "code",
   "execution_count": 21,
   "metadata": {},
   "outputs": [],
   "source": [
    "# clean the tweets\n",
    "def clean(text):\n",
    "    text = text.lower() # lower case\n",
    "    text = re.sub(r\"@[A-Za-z0-9]+\",\"\", text) # remove @mentions\n",
    "    text = re.sub(r\"#\",\"\", text) # remove #\n",
    "    text = re.sub(r\"\\ART[\\s]+\",\"\", text) # remove RT\n",
    "    text = re.sub(r\"https?:\\/\\/\\S+\",\"\", text) # remove hyperlink\n",
    "    text = re.sub(\"(.)\\\\1{2,}\",\"\\\\1\", text) # remove more than two characters.\n",
    "    text = re.sub(r\"[^A-Za-z0-9\\s]+\", \" \",str(text)) #remove special characters\n",
    "    \n",
    "    return text"
   ]
  },
  {
   "cell_type": "code",
   "execution_count": 22,
   "metadata": {},
   "outputs": [],
   "source": [
    "def detect_lang(tweet):\n",
    "    try:\n",
    "        isReliable, textBytesFound, details = cld2.detect(tweet)\n",
    "        return details[0][0]\n",
    "    except:\n",
    "        return 'not found'"
   ]
  },
  {
   "cell_type": "markdown",
   "metadata": {},
   "source": [
    "## All English tweets"
   ]
  },
  {
   "cell_type": "code",
   "execution_count": null,
   "metadata": {},
   "outputs": [],
   "source": [
    "print('Replacing contractions...')\n",
    "all_tweets['clean_tweet'] = all_tweets['tweet'].apply(repl_contract)\n",
    "print('Cleaning tweets...')\n",
    "all_tweets['clean_tweet'] = all_tweets['clean_tweet'].apply(clean)\n",
    "print('Detecting language...')\n",
    "all_tweets['language'] = all_tweets['clean_tweet'].apply(detect_lang)\n",
    "print('Done')"
   ]
  },
  {
   "cell_type": "code",
   "execution_count": null,
   "metadata": {},
   "outputs": [],
   "source": [
    "all_tweets['language'].value_counts().head(10)"
   ]
  },
  {
   "cell_type": "code",
   "execution_count": null,
   "metadata": {},
   "outputs": [],
   "source": [
    "all_tweets['language'].replace({'SCOTS': 'ENGLISH'}, inplace=True)\n",
    "all_tweets_eng = all_tweets[all_tweets['language'] == 'ENGLISH']\n",
    "all_tweets_eng = all_tweets_eng.drop_duplicates(subset='tweet_id', keep=False)"
   ]
  },
  {
   "cell_type": "markdown",
   "metadata": {},
   "source": [
    "## US Tweets"
   ]
  },
  {
   "cell_type": "code",
   "execution_count": 23,
   "metadata": {},
   "outputs": [
    {
     "name": "stdout",
     "output_type": "stream",
     "text": [
      "Replacing contractions...\n",
      "Cleaning tweets...\n",
      "Detecting language...\n",
      "Done\n"
     ]
    }
   ],
   "source": [
    "print('Replacing contractions...')\n",
    "us_tweets['clean_tweet'] = us_tweets['tweet'].apply(repl_contract)\n",
    "print('Cleaning tweets...')\n",
    "us_tweets['clean_tweet'] = us_tweets['clean_tweet'].apply(clean)\n",
    "print('Detecting language...')\n",
    "us_tweets['language'] = us_tweets['clean_tweet'].apply(detect_lang)\n",
    "print('Done')"
   ]
  },
  {
   "cell_type": "code",
   "execution_count": 24,
   "metadata": {},
   "outputs": [
    {
     "data": {
      "text/plain": [
       "ENGLISH       278587\n",
       "Unknown        30937\n",
       "SPANISH         3332\n",
       "BASQUE          2979\n",
       "SCOTS            917\n",
       "FRENCH           637\n",
       "GERMAN           378\n",
       "ITALIAN          348\n",
       "PORTUGUESE       103\n",
       "TURKISH           99\n",
       "Name: language, dtype: int64"
      ]
     },
     "execution_count": 24,
     "metadata": {},
     "output_type": "execute_result"
    }
   ],
   "source": [
    "us_tweets['language'].value_counts().head(10)"
   ]
  },
  {
   "cell_type": "code",
   "execution_count": 25,
   "metadata": {},
   "outputs": [],
   "source": [
    "us_tweets['language'].replace({'SCOTS': 'ENGLISH'}, inplace=True)\n",
    "us_tweets_eng = us_tweets[us_tweets['language'] == 'ENGLISH']\n",
    "us_tweets_eng = us_tweets_eng.drop_duplicates(subset='tweet_id', keep=False)"
   ]
  },
  {
   "cell_type": "markdown",
   "metadata": {},
   "source": [
    "## Voter tweets"
   ]
  },
  {
   "cell_type": "code",
   "execution_count": 26,
   "metadata": {},
   "outputs": [
    {
     "name": "stdout",
     "output_type": "stream",
     "text": [
      "Replacing contractions...\n",
      "Cleaning tweets...\n",
      "Detecting language...\n",
      "Done\n"
     ]
    }
   ],
   "source": [
    "print('Replacing contractions...')\n",
    "voter_tweets['clean_tweet'] = voter_tweets['tweet'].apply(repl_contract)\n",
    "print('Cleaning tweets...')\n",
    "voter_tweets['clean_tweet'] = voter_tweets['clean_tweet'].apply(clean)\n",
    "print('Detecting language...')\n",
    "voter_tweets['language'] = voter_tweets['clean_tweet'].apply(detect_lang)\n",
    "print('Done')"
   ]
  },
  {
   "cell_type": "code",
   "execution_count": 27,
   "metadata": {},
   "outputs": [
    {
     "data": {
      "text/plain": [
       "ENGLISH       69727\n",
       "Unknown        9279\n",
       "BASQUE         1106\n",
       "SPANISH         639\n",
       "SCOTS           263\n",
       "FRENCH           90\n",
       "GERMAN           78\n",
       "PORTUGUESE       56\n",
       "ITALIAN          49\n",
       "TURKISH          47\n",
       "Name: language, dtype: int64"
      ]
     },
     "execution_count": 27,
     "metadata": {},
     "output_type": "execute_result"
    }
   ],
   "source": [
    "voter_tweets['language'].value_counts().head(10)"
   ]
  },
  {
   "cell_type": "code",
   "execution_count": 28,
   "metadata": {},
   "outputs": [
    {
     "name": "stdout",
     "output_type": "stream",
     "text": [
      "Number of Tweets: 69990 \n",
      "\n",
      "Number of Tweets for each candidat:\n",
      " BIDEN    39655\n",
      "TRUMP    30335\n",
      "Name: candidat, dtype: int64\n"
     ]
    }
   ],
   "source": [
    "voter_tweets['language'].replace({'SCOTS': 'ENGLISH'}, inplace=True)\n",
    "voter_tweets = voter_tweets[voter_tweets['language'] == 'ENGLISH']\n",
    "\n",
    "n = voter_tweets['tweet'].count()\n",
    "t = voter_tweets['candidat'].value_counts()\n",
    "\n",
    "print('Number of Tweets:',n,'\\n')\n",
    "print('Number of Tweets for each candidat:\\n',t)"
   ]
  },
  {
   "cell_type": "code",
   "execution_count": 30,
   "metadata": {},
   "outputs": [
    {
     "name": "stdout",
     "output_type": "stream",
     "text": [
      "Number of Voter Tweets: 69990 \n",
      "\n",
      "Number of Tweets for each candidat:\n",
      " BIDEN    39655\n",
      "TRUMP    30335\n",
      "Name: candidat, dtype: int64 \n",
      "\n",
      "Unique Trump Users: 30335 \n",
      "\n",
      "Unique Biden Users: 39655 \n",
      "\n",
      "Unique Users in the whole Dataset: 69990 \n",
      "\n"
     ]
    }
   ],
   "source": [
    "n = voter_tweets['tweet'].count()\n",
    "t = voter_tweets['candidat'].value_counts()\n",
    "k = len(pd.unique(voter_tweets['user_id']))\n",
    "\n",
    "b = voter_tweets[voter_tweets.candidat == 'TRUMP']\n",
    "h = len(pd.unique(b['user_id']))\n",
    "\n",
    "a = voter_tweets[voter_tweets.candidat == 'BIDEN']\n",
    "g = len(pd.unique(a['user_id']))\n",
    "\n",
    "f = voter_tweets['user_name'].value_counts().head(10)\n",
    "\n",
    "print('Number of Voter Tweets:',n,'\\n')\n",
    "print('Number of Tweets for each candidat:\\n',t,'\\n')\n",
    "print('Unique Trump Users:',h,'\\n')\n",
    "print('Unique Biden Users:',g,'\\n')\n",
    "print('Unique Users in the whole Dataset:',k,'\\n')"
   ]
  },
  {
   "cell_type": "code",
   "execution_count": 31,
   "metadata": {},
   "outputs": [
    {
     "data": {
      "text/html": [
       "<div>\n",
       "<style scoped>\n",
       "    .dataframe tbody tr th:only-of-type {\n",
       "        vertical-align: middle;\n",
       "    }\n",
       "\n",
       "    .dataframe tbody tr th {\n",
       "        vertical-align: top;\n",
       "    }\n",
       "\n",
       "    .dataframe thead th {\n",
       "        text-align: right;\n",
       "    }\n",
       "</style>\n",
       "<table border=\"1\" class=\"dataframe\">\n",
       "  <thead>\n",
       "    <tr style=\"text-align: right;\">\n",
       "      <th></th>\n",
       "      <th>created_at</th>\n",
       "      <th>tweet_id</th>\n",
       "      <th>tweet</th>\n",
       "      <th>user_id</th>\n",
       "      <th>user_name</th>\n",
       "      <th>city</th>\n",
       "      <th>country</th>\n",
       "      <th>continent</th>\n",
       "      <th>state</th>\n",
       "      <th>candidat</th>\n",
       "      <th>user_screen_name</th>\n",
       "      <th>state_code</th>\n",
       "      <th>clean_tweet</th>\n",
       "      <th>language</th>\n",
       "    </tr>\n",
       "  </thead>\n",
       "  <tbody>\n",
       "    <tr>\n",
       "      <th>7</th>\n",
       "      <td>2020-10-15 00:00:18</td>\n",
       "      <td>1.316529e+18</td>\n",
       "      <td>@DeeviousDenise @realDonaldTrump @nypost There...</td>\n",
       "      <td>9.007611e+17</td>\n",
       "      <td>Stacey Gulledge 🇺🇸 Patriot ♥️ KAG 🙏 👮‍♀️♥️</td>\n",
       "      <td>NaN</td>\n",
       "      <td>United States of America</td>\n",
       "      <td>North America</td>\n",
       "      <td>Ohio</td>\n",
       "      <td>TRUMP</td>\n",
       "      <td>sm_gulledge</td>\n",
       "      <td>OH</td>\n",
       "      <td>there won t be many of them  unless you all h...</td>\n",
       "      <td>ENGLISH</td>\n",
       "    </tr>\n",
       "    <tr>\n",
       "      <th>29</th>\n",
       "      <td>2020-10-15 00:01:30</td>\n",
       "      <td>1.316530e+18</td>\n",
       "      <td>@karatblood @KazePlays_JC Grab @realDonaldTrum...</td>\n",
       "      <td>3.602439e+07</td>\n",
       "      <td>Baylee</td>\n",
       "      <td>Chicago</td>\n",
       "      <td>United States of America</td>\n",
       "      <td>North America</td>\n",
       "      <td>Illinois</td>\n",
       "      <td>TRUMP</td>\n",
       "      <td>bayleewashere</td>\n",
       "      <td>IL</td>\n",
       "      <td>jc grab  by the balls  amp  chuck the bastar...</td>\n",
       "      <td>ENGLISH</td>\n",
       "    </tr>\n",
       "    <tr>\n",
       "      <th>75</th>\n",
       "      <td>2020-10-15 00:03:38</td>\n",
       "      <td>1.316530e+18</td>\n",
       "      <td>@JoeBiden #donaldtrump 4 more years!</td>\n",
       "      <td>1.657854e+07</td>\n",
       "      <td>Scott Seifferlein</td>\n",
       "      <td>Grand Rapids</td>\n",
       "      <td>United States of America</td>\n",
       "      <td>North America</td>\n",
       "      <td>Michigan</td>\n",
       "      <td>TRUMP</td>\n",
       "      <td>Seifferlein</td>\n",
       "      <td>MI</td>\n",
       "      <td>donaldtrump for more years</td>\n",
       "      <td>ENGLISH</td>\n",
       "    </tr>\n",
       "    <tr>\n",
       "      <th>92</th>\n",
       "      <td>2020-10-15 00:05:01</td>\n",
       "      <td>1.316530e+18</td>\n",
       "      <td>GOP TRIES TO STEAL THE ELECTION!!! Trump urges...</td>\n",
       "      <td>2.479320e+07</td>\n",
       "      <td>Paul Cline</td>\n",
       "      <td>NaN</td>\n",
       "      <td>United States of America</td>\n",
       "      <td>North America</td>\n",
       "      <td>Florida</td>\n",
       "      <td>TRUMP</td>\n",
       "      <td>paulcline7</td>\n",
       "      <td>FL</td>\n",
       "      <td>gop tries to steal the election  trump urges c...</td>\n",
       "      <td>ENGLISH</td>\n",
       "    </tr>\n",
       "    <tr>\n",
       "      <th>99</th>\n",
       "      <td>2020-10-15 00:05:21</td>\n",
       "      <td>1.316531e+18</td>\n",
       "      <td>Good for @kayleighmcenany. Who knew that tryin...</td>\n",
       "      <td>2.902245e+09</td>\n",
       "      <td>Brian W. Peterson</td>\n",
       "      <td>Kansas City</td>\n",
       "      <td>United States of America</td>\n",
       "      <td>North America</td>\n",
       "      <td>Missouri</td>\n",
       "      <td>TRUMP</td>\n",
       "      <td>cybrpete</td>\n",
       "      <td>MO</td>\n",
       "      <td>good for   who knew that trying to get out inf...</td>\n",
       "      <td>ENGLISH</td>\n",
       "    </tr>\n",
       "  </tbody>\n",
       "</table>\n",
       "</div>"
      ],
      "text/plain": [
       "             created_at      tweet_id  \\\n",
       "7   2020-10-15 00:00:18  1.316529e+18   \n",
       "29  2020-10-15 00:01:30  1.316530e+18   \n",
       "75  2020-10-15 00:03:38  1.316530e+18   \n",
       "92  2020-10-15 00:05:01  1.316530e+18   \n",
       "99  2020-10-15 00:05:21  1.316531e+18   \n",
       "\n",
       "                                                tweet       user_id  \\\n",
       "7   @DeeviousDenise @realDonaldTrump @nypost There...  9.007611e+17   \n",
       "29  @karatblood @KazePlays_JC Grab @realDonaldTrum...  3.602439e+07   \n",
       "75               @JoeBiden #donaldtrump 4 more years!  1.657854e+07   \n",
       "92  GOP TRIES TO STEAL THE ELECTION!!! Trump urges...  2.479320e+07   \n",
       "99  Good for @kayleighmcenany. Who knew that tryin...  2.902245e+09   \n",
       "\n",
       "                                     user_name          city  \\\n",
       "7   Stacey Gulledge 🇺🇸 Patriot ♥️ KAG 🙏 👮‍♀️♥️           NaN   \n",
       "29                                      Baylee       Chicago   \n",
       "75                           Scott Seifferlein  Grand Rapids   \n",
       "92                                  Paul Cline           NaN   \n",
       "99                           Brian W. Peterson   Kansas City   \n",
       "\n",
       "                     country      continent     state candidat  \\\n",
       "7   United States of America  North America      Ohio    TRUMP   \n",
       "29  United States of America  North America  Illinois    TRUMP   \n",
       "75  United States of America  North America  Michigan    TRUMP   \n",
       "92  United States of America  North America   Florida    TRUMP   \n",
       "99  United States of America  North America  Missouri    TRUMP   \n",
       "\n",
       "   user_screen_name state_code  \\\n",
       "7       sm_gulledge         OH   \n",
       "29    bayleewashere         IL   \n",
       "75      Seifferlein         MI   \n",
       "92       paulcline7         FL   \n",
       "99         cybrpete         MO   \n",
       "\n",
       "                                          clean_tweet language  \n",
       "7    there won t be many of them  unless you all h...  ENGLISH  \n",
       "29    jc grab  by the balls  amp  chuck the bastar...  ENGLISH  \n",
       "75                        donaldtrump for more years   ENGLISH  \n",
       "92  gop tries to steal the election  trump urges c...  ENGLISH  \n",
       "99  good for   who knew that trying to get out inf...  ENGLISH  "
      ]
     },
     "execution_count": 31,
     "metadata": {},
     "output_type": "execute_result"
    }
   ],
   "source": [
    "voter_tweets.head()"
   ]
  },
  {
   "cell_type": "code",
   "execution_count": null,
   "metadata": {},
   "outputs": [],
   "source": [
    "voter_tweets = voter_tweets.drop(columns= ['country','continent','language','tweet'])"
   ]
  },
  {
   "cell_type": "markdown",
   "metadata": {},
   "source": [
    "## Tweets with both hashtags"
   ]
  },
  {
   "cell_type": "code",
   "execution_count": 32,
   "metadata": {},
   "outputs": [
    {
     "name": "stdout",
     "output_type": "stream",
     "text": [
      "Replacing contractions...\n",
      "Cleaning tweets...\n",
      "Detecting language...\n",
      "Done\n"
     ]
    }
   ],
   "source": [
    "print('Replacing contractions...')\n",
    "common_users['clean_tweet'] = common_users['tweet'].apply(repl_contract)\n",
    "print('Cleaning tweets...')\n",
    "common_users['clean_tweet'] = common_users['clean_tweet'].apply(clean)\n",
    "print('Detecting language...')\n",
    "common_users['language'] = common_users['clean_tweet'].apply(detect_lang)\n",
    "print('Done')"
   ]
  },
  {
   "cell_type": "code",
   "execution_count": 33,
   "metadata": {},
   "outputs": [
    {
     "name": "stdout",
     "output_type": "stream",
     "text": [
      "Replacing contractions...\n",
      "Cleaning tweets...\n",
      "Detecting language...\n",
      "Done\n"
     ]
    }
   ],
   "source": [
    "print('Replacing contractions...')\n",
    "common_tweets['clean_tweet'] = common_tweets['tweet'].apply(repl_contract)\n",
    "print('Cleaning tweets...')\n",
    "common_tweets['clean_tweet'] = common_tweets['clean_tweet'].apply(clean)\n",
    "print('Detecting language...')\n",
    "common_tweets['language'] = common_tweets['clean_tweet'].apply(detect_lang)\n",
    "print('Done')"
   ]
  },
  {
   "cell_type": "code",
   "execution_count": 34,
   "metadata": {},
   "outputs": [
    {
     "name": "stdout",
     "output_type": "stream",
     "text": [
      "Number of languages for common users:\n",
      " ENGLISH       660133\n",
      "Unknown       112356\n",
      "SPANISH        39166\n",
      "GERMAN         33800\n",
      "FRENCH         33339\n",
      "ITALIAN        24643\n",
      "DUTCH           8892\n",
      "TURKISH         5506\n",
      "BASQUE          5173\n",
      "PORTUGUESE      3553\n",
      "Name: language, dtype: int64 \n",
      "\n",
      "Number of languages for common tweets:\n",
      " ENGLISH       139245\n",
      "Unknown        31585\n",
      "SPANISH        13856\n",
      "FRENCH          9968\n",
      "GERMAN          8749\n",
      "ITALIAN         7178\n",
      "TURKISH         2596\n",
      "DUTCH           2555\n",
      "PORTUGUESE      1514\n",
      "POLISH           734\n",
      "Name: language, dtype: int64 \n",
      "\n"
     ]
    }
   ],
   "source": [
    "n = common_users['language'].value_counts().head(10)\n",
    "t = common_tweets['language'].value_counts().head(10)\n",
    "\n",
    "print('Number of languages for common users:\\n',n,'\\n')\n",
    "print('Number of languages for common tweets:\\n',t,'\\n')"
   ]
  },
  {
   "cell_type": "code",
   "execution_count": 35,
   "metadata": {},
   "outputs": [],
   "source": [
    "common_users['language'].replace({'SCOTS': 'ENGLISH'}, inplace=True)\n",
    "common_tweets['language'].replace({'SCOTS': 'ENGLISH'}, inplace=True)\n",
    "\n",
    "common_users_eng = common_users[common_users['language'] == 'ENGLISH']\n",
    "common_tweets_eng = common_tweets[common_tweets['language'] == 'ENGLISH']"
   ]
  },
  {
   "cell_type": "markdown",
   "metadata": {},
   "source": [
    "# Sentiment Analysis"
   ]
  },
  {
   "cell_type": "code",
   "execution_count": 36,
   "metadata": {},
   "outputs": [],
   "source": [
    "file = open('model_LR.pickle','rb')\n",
    "model = pickle.load(file)\n",
    "file.close()"
   ]
  },
  {
   "cell_type": "code",
   "execution_count": 37,
   "metadata": {},
   "outputs": [],
   "source": [
    "def get_sentiment(model, data, level_of_significance):\n",
    "    \n",
    "    sentiments=[]\n",
    "    polarity = []\n",
    "    prediction_prob = model.predict_proba(data)\n",
    "\n",
    "    for prob in prediction_prob:\n",
    "        dif = prob[1] - prob[0]\n",
    "        polarity.append(prob[1])\n",
    "        if dif >= -level_of_significance and dif <= level_of_significance:\n",
    "            sentiments.append('Neutral')\n",
    "        elif dif > level_of_significance:\n",
    "            sentiments.append('Positive')\n",
    "        else:\n",
    "            sentiments.append('Negative')\n",
    "            \n",
    "    return sentiments, polarity"
   ]
  },
  {
   "cell_type": "code",
   "execution_count": 38,
   "metadata": {},
   "outputs": [],
   "source": [
    "def get_subjectivity(text):\n",
    "    return TextBlob(text).sentiment.subjectivity\n",
    "def get_polarity(text):\n",
    "    return TextBlob(text).sentiment.polarity\n",
    "def get_analysis(score):\n",
    "    if score < 0:\n",
    "        return 'Negative'\n",
    "    elif score==0:\n",
    "        return 'Neutral'\n",
    "    else:\n",
    "        return 'Positive'"
   ]
  },
  {
   "cell_type": "markdown",
   "metadata": {},
   "source": [
    "## Sentiment on all english tweets"
   ]
  },
  {
   "cell_type": "code",
   "execution_count": null,
   "metadata": {},
   "outputs": [],
   "source": [
    "all_sentiment, all_polarity = get_sentiment(model, all_tweets_eng['clean_tweet'], 0.1)\n",
    "all_tweets_eng['Sentiment'] = all_sentiment\n",
    "all_tweets_eng['Polarity'] = all_polarity"
   ]
  },
  {
   "cell_type": "code",
   "execution_count": null,
   "metadata": {},
   "outputs": [],
   "source": [
    "n = all_tweets_eng['tweet'].count()\n",
    "t = all_tweets_eng['candidat'].value_counts()\n",
    "k = all_tweets_eng['Sentiment'].value_counts()\n",
    "\n",
    "print('Number of tweets:\\n',n,'\\n')\n",
    "print('Tweets per candidat:\\n',t,'\\n')\n",
    "print('Sentiments all tweets:\\n',k,'\\n')"
   ]
  },
  {
   "cell_type": "markdown",
   "metadata": {},
   "source": [
    "## Sentiment on US tweets"
   ]
  },
  {
   "cell_type": "code",
   "execution_count": 39,
   "metadata": {},
   "outputs": [],
   "source": [
    "us_sentiment, us_polarity = get_sentiment(model, us_tweets_eng['clean_tweet'], 0.1)\n",
    "us_tweets_eng['Sentiment'] = us_sentiment\n",
    "us_tweets_eng['Polarity'] = us_polarity"
   ]
  },
  {
   "cell_type": "code",
   "execution_count": 40,
   "metadata": {},
   "outputs": [
    {
     "name": "stdout",
     "output_type": "stream",
     "text": [
      "Number of tweets:\n",
      " 279504 \n",
      "\n",
      "Tweets per candidat:\n",
      " TRUMP    158524\n",
      "BIDEN    120980\n",
      "Name: candidat, dtype: int64 \n",
      "\n",
      "Sentiments US tweets:\n",
      " Positive    154872\n",
      "Negative     91697\n",
      "Neutral      32935\n",
      "Name: Sentiment, dtype: int64 \n",
      "\n"
     ]
    }
   ],
   "source": [
    "n = us_tweets_eng['tweet'].count()\n",
    "t = us_tweets_eng['candidat'].value_counts()\n",
    "k = us_tweets_eng['Sentiment'].value_counts()\n",
    "\n",
    "print('Number of tweets:\\n',n,'\\n')\n",
    "print('Tweets per candidat:\\n',t,'\\n')\n",
    "print('Sentiments US tweets:\\n',k,'\\n')"
   ]
  },
  {
   "cell_type": "code",
   "execution_count": 41,
   "metadata": {},
   "outputs": [
    {
     "name": "stdout",
     "output_type": "stream",
     "text": [
      "US Sentiments Biden:\n",
      " Positive    73292\n",
      "Negative    34086\n",
      "Neutral     13602\n",
      "Name: Sentiment, dtype: int64 \n",
      "\n",
      "US Sentiments Trump:\n",
      " Positive    81580\n",
      "Negative    57611\n",
      "Neutral     19333\n",
      "Name: Sentiment, dtype: int64 \n",
      "\n"
     ]
    }
   ],
   "source": [
    "us_B = us_tweets_eng[us_tweets_eng.candidat == 'BIDEN']\n",
    "us_T = us_tweets_eng[us_tweets_eng.candidat == 'TRUMP']\n",
    "n = us_B['Sentiment'].value_counts()\n",
    "t = us_T['Sentiment'].value_counts()\n",
    "\n",
    "print('US Sentiments Biden:\\n',n,'\\n')\n",
    "print('US Sentiments Trump:\\n',t,'\\n')"
   ]
  },
  {
   "cell_type": "code",
   "execution_count": 42,
   "metadata": {},
   "outputs": [
    {
     "name": "stdout",
     "output_type": "stream",
     "text": [
      "Number of Tweets from the US: 279504 \n",
      "\n",
      "Number of Tweets for each candidat:\n",
      " TRUMP    158524\n",
      "BIDEN    120980\n",
      "Name: candidat, dtype: int64 \n",
      "\n",
      "Unique Trump Users: 37510 \n",
      "\n",
      "Unique Biden Users: 47130 \n",
      "\n",
      "Unique Users in the whole Dataset: 72994 \n",
      "\n",
      "Top ten US Users:\n",
      " Jonathan Greenberg                                    1070\n",
      "Scott McLeod (he, him, his)                            966\n",
      "THCPetDoctor                                           911\n",
      "Maureen Devlin                                         849\n",
      "Starbright489 #OnePersonOneVote #DoWillOfThePeople     732\n",
      "Presidential News Network                              704\n",
      "VOTE BLUE Steve Ziegenbusch👑                           578\n",
      "snarke                                                 549\n",
      "joshua epstein🏳️‍🌈🖖🏼🗽👨🏼‍💻🇺🇸                            528\n",
      "PulpNews Crime                                         522\n",
      "Name: user_name, dtype: int64 \n",
      "\n"
     ]
    }
   ],
   "source": [
    "n = us_tweets_eng['tweet'].count()\n",
    "t = us_tweets_eng['candidat'].value_counts()\n",
    "k = len(pd.unique(us_tweets_eng['user_id']))\n",
    "\n",
    "b = us_tweets_eng[us_tweets_eng.candidat == 'TRUMP']\n",
    "h = len(pd.unique(b['user_id']))\n",
    "\n",
    "a = us_tweets_eng[us_tweets_eng.candidat == 'BIDEN']\n",
    "g = len(pd.unique(a['user_id']))\n",
    "\n",
    "f = us_tweets_eng['user_name'].value_counts().head(10)\n",
    "\n",
    "print('Number of Tweets from the US:',n,'\\n')\n",
    "print('Number of Tweets for each candidat:\\n',t,'\\n')\n",
    "print('Unique Trump Users:',h,'\\n')\n",
    "print('Unique Biden Users:',g,'\\n')\n",
    "print('Unique Users in the whole Dataset:',k,'\\n')\n",
    "print('Top ten US Users:\\n',f,'\\n')"
   ]
  },
  {
   "cell_type": "markdown",
   "metadata": {},
   "source": [
    "## Sentiment on common users & tweets"
   ]
  },
  {
   "cell_type": "code",
   "execution_count": 43,
   "metadata": {},
   "outputs": [
    {
     "name": "stderr",
     "output_type": "stream",
     "text": [
      "<ipython-input-43-d056935acefd>:2: SettingWithCopyWarning: \n",
      "A value is trying to be set on a copy of a slice from a DataFrame.\n",
      "Try using .loc[row_indexer,col_indexer] = value instead\n",
      "\n",
      "See the caveats in the documentation: https://pandas.pydata.org/pandas-docs/stable/user_guide/indexing.html#returning-a-view-versus-a-copy\n",
      "  common_users_eng['Sentiment'] = common_sentiment\n",
      "<ipython-input-43-d056935acefd>:3: SettingWithCopyWarning: \n",
      "A value is trying to be set on a copy of a slice from a DataFrame.\n",
      "Try using .loc[row_indexer,col_indexer] = value instead\n",
      "\n",
      "See the caveats in the documentation: https://pandas.pydata.org/pandas-docs/stable/user_guide/indexing.html#returning-a-view-versus-a-copy\n",
      "  common_users_eng['Polarity'] = common_polarity\n"
     ]
    }
   ],
   "source": [
    "common_sentiment, common_polarity = get_sentiment(model, common_users_eng['clean_tweet'], 0.1)\n",
    "common_users_eng['Sentiment'] = common_sentiment\n",
    "common_users_eng['Polarity'] = common_polarity"
   ]
  },
  {
   "cell_type": "code",
   "execution_count": 44,
   "metadata": {},
   "outputs": [
    {
     "name": "stderr",
     "output_type": "stream",
     "text": [
      "<ipython-input-44-1ee8f52ac208>:2: SettingWithCopyWarning: \n",
      "A value is trying to be set on a copy of a slice from a DataFrame.\n",
      "Try using .loc[row_indexer,col_indexer] = value instead\n",
      "\n",
      "See the caveats in the documentation: https://pandas.pydata.org/pandas-docs/stable/user_guide/indexing.html#returning-a-view-versus-a-copy\n",
      "  common_tweets_eng['Sentiment'] = common_sentiment\n",
      "<ipython-input-44-1ee8f52ac208>:3: SettingWithCopyWarning: \n",
      "A value is trying to be set on a copy of a slice from a DataFrame.\n",
      "Try using .loc[row_indexer,col_indexer] = value instead\n",
      "\n",
      "See the caveats in the documentation: https://pandas.pydata.org/pandas-docs/stable/user_guide/indexing.html#returning-a-view-versus-a-copy\n",
      "  common_tweets_eng['Polarity'] = common_polarity\n"
     ]
    }
   ],
   "source": [
    "common_sentiment, common_polarity = get_sentiment(model, common_tweets_eng['clean_tweet'], 0.1)\n",
    "common_tweets_eng['Sentiment'] = common_sentiment\n",
    "common_tweets_eng['Polarity'] = common_polarity"
   ]
  },
  {
   "cell_type": "code",
   "execution_count": 45,
   "metadata": {},
   "outputs": [
    {
     "name": "stdout",
     "output_type": "stream",
     "text": [
      "Sentiments common users:\n",
      " Positive    370614\n",
      "Negative    210345\n",
      "Neutral      81757\n",
      "Name: Sentiment, dtype: int64 \n",
      "\n",
      "Sentiments common tweets:\n",
      " Positive    89001\n",
      "Negative    34155\n",
      "Neutral     16625\n",
      "Name: Sentiment, dtype: int64 \n",
      "\n"
     ]
    }
   ],
   "source": [
    "n = common_users_eng['Sentiment'].value_counts()\n",
    "t = common_tweets_eng['Sentiment'].value_counts()\n",
    "\n",
    "print('Sentiments common users:\\n',n,'\\n')\n",
    "print('Sentiments common tweets:\\n',t,'\\n')"
   ]
  },
  {
   "cell_type": "markdown",
   "metadata": {},
   "source": [
    "## Sentiment on voter tweets"
   ]
  },
  {
   "cell_type": "code",
   "execution_count": 46,
   "metadata": {},
   "outputs": [],
   "source": [
    "voter_sentiment, voter_polarity = get_sentiment(model, voter_tweets['clean_tweet'], 0.1)\n",
    "voter_tweets['Sentiment_ML'] = voter_sentiment\n",
    "voter_tweets['Polarity_ML'] = voter_polarity"
   ]
  },
  {
   "cell_type": "code",
   "execution_count": 47,
   "metadata": {},
   "outputs": [],
   "source": [
    "voter_tweets['Polarity_LX'] = voter_tweets['clean_tweet'].apply(get_polarity)\n",
    "voter_tweets['Sentiment_LX'] = voter_tweets['Polarity_LX'].apply(get_analysis)"
   ]
  },
  {
   "cell_type": "code",
   "execution_count": 48,
   "metadata": {},
   "outputs": [],
   "source": [
    "tweets_B = voter_tweets[voter_tweets.candidat == 'BIDEN']\n",
    "tweets_T = voter_tweets[voter_tweets.candidat == 'TRUMP']"
   ]
  },
  {
   "cell_type": "code",
   "execution_count": 49,
   "metadata": {},
   "outputs": [
    {
     "name": "stdout",
     "output_type": "stream",
     "text": [
      "ML Sentiments Trump:\n",
      " Positive    16829\n",
      "Negative     9973\n",
      "Neutral      3533\n",
      "Name: Sentiment_ML, dtype: int64 \n",
      "\n",
      "ML Sentiments Biden:\n",
      " Positive    26003\n",
      "Negative     9683\n",
      "Neutral      3969\n",
      "Name: Sentiment_ML, dtype: int64 \n",
      "\n",
      "LX Sentiments Trump:\n",
      " Positive    11836\n",
      "Neutral     11436\n",
      "Negative     7063\n",
      "Name: Sentiment_LX, dtype: int64 \n",
      "\n",
      "LX Sentiments Biden:\n",
      " Positive    18160\n",
      "Neutral     15093\n",
      "Negative     6402\n",
      "Name: Sentiment_LX, dtype: int64 \n",
      "\n"
     ]
    }
   ],
   "source": [
    "n = tweets_T['Sentiment_ML'].value_counts()\n",
    "t = tweets_B['Sentiment_ML'].value_counts()\n",
    "\n",
    "k = tweets_T['Sentiment_LX'].value_counts()\n",
    "h = tweets_B['Sentiment_LX'].value_counts()\n",
    "\n",
    "print('ML Sentiments Trump:\\n',n,'\\n')\n",
    "print('ML Sentiments Biden:\\n',t,'\\n')\n",
    "print('LX Sentiments Trump:\\n',k,'\\n')\n",
    "print('LX Sentiments Biden:\\n',h,'\\n')"
   ]
  },
  {
   "cell_type": "code",
   "execution_count": 50,
   "metadata": {},
   "outputs": [],
   "source": [
    "pos_biden = tweets_B[tweets_B['Sentiment_ML'] == 'Positive']\n",
    "neg_biden = tweets_B[tweets_B['Sentiment_ML'] == 'Negative']\n",
    "\n",
    "pos_trump = tweets_T[tweets_T['Sentiment_ML'] == 'Positive']\n",
    "neg_trump = tweets_T[tweets_T['Sentiment_ML'] == 'Negative']\n",
    "\n",
    "biden_results = pd.concat([pos_biden,neg_trump])\n",
    "trump_results = pd.concat([neg_biden,pos_trump])"
   ]
  },
  {
   "cell_type": "code",
   "execution_count": 51,
   "metadata": {},
   "outputs": [
    {
     "name": "stdout",
     "output_type": "stream",
     "text": [
      "ML Sentiments Trump:\n",
      " Positive    16649\n",
      "Negative     9853\n",
      "Neutral      3498\n",
      "Name: Sentiment_ML, dtype: int64 \n",
      "\n",
      "ML Sentiments Biden:\n",
      " Positive    19701\n",
      "Negative     7307\n",
      "Neutral      2992\n",
      "Name: Sentiment_ML, dtype: int64 \n",
      "\n"
     ]
    }
   ],
   "source": [
    "# get a sample of 30000 tweets for each candidat \n",
    "trump = voter_tweets.loc[voter_tweets['candidat'] == 'TRUMP']\n",
    "biden = voter_tweets.loc[voter_tweets['candidat'] == 'BIDEN']\n",
    "\n",
    "trump = trump.sample(n=30000)\n",
    "biden = biden.sample(n=30000)\n",
    "\n",
    "n = trump['Sentiment_ML'].value_counts()\n",
    "t = biden['Sentiment_ML'].value_counts()\n",
    "\n",
    "print('ML Sentiments Trump:\\n',n,'\\n')\n",
    "print('ML Sentiments Biden:\\n',t,'\\n')"
   ]
  },
  {
   "cell_type": "code",
   "execution_count": null,
   "metadata": {},
   "outputs": [],
   "source": [
    "us_tweets.count()"
   ]
  },
  {
   "cell_type": "code",
   "execution_count": null,
   "metadata": {},
   "outputs": [],
   "source": [
    "us_tweets['state_code'] = us_tweets['state_code'].fillna('NA')\n",
    "us_tweets['state'] = us_tweets['state'].fillna('NA')\n",
    "us_tweets['city'] = us_tweets['city'].fillna('NA')"
   ]
  },
  {
   "cell_type": "code",
   "execution_count": null,
   "metadata": {},
   "outputs": [],
   "source": [
    "#us_tweets.to_csv('us_tweets.csv')"
   ]
  },
  {
   "cell_type": "code",
   "execution_count": null,
   "metadata": {},
   "outputs": [],
   "source": [
    "#import plotly\n",
    "#import plotly.express as px\n",
    "  \n",
    "#fig = px.choropleth(us_tweets, locations = ' locationmode=\"USA-states\", color=[1], scope=\"usa\")\n",
    "  \n",
    "#fig.show()"
   ]
  },
  {
   "cell_type": "code",
   "execution_count": null,
   "metadata": {},
   "outputs": [],
   "source": [
    "print(\"Trump vs Biden ML and LX\")\n",
    "plotdata = pd.DataFrame({\n",
    "    \"BIDEN_ML\":[26003 ,3969, 9683],\n",
    "    \"BIDEN_LX\":[18160 ,15093, 6402],\n",
    "    \"TRUMP_ML\":[16829 ,3533, 9973], \n",
    "    \"TRUMP\":[11836 ,11436, 7063],        \n",
    "    }, \n",
    "    index=[\"Positive\", \"Neutral\", \"Negative\"]\n",
    ")\n",
    "\n",
    "plotdata.plot(kind=\"bar\",figsize=(22,12),fontsize=25)\n",
    "# Pad margins so that markers don't get c)\n",
    "plt.title(\"\",fontsize=25)\n",
    "plt.xlabel(\"\\n Sentiment\",fontsize=25)\n",
    "plt.xticks(rotation=0)\n",
    "\n",
    "plt.legend(loc=1, fontsize = 'xx-large')\n",
    "\n",
    "plt.ylabel(\"Count\",fontsize=25)\n",
    "plt.show()"
   ]
  },
  {
   "cell_type": "code",
   "execution_count": null,
   "metadata": {},
   "outputs": [],
   "source": [
    "print(\"Trump vs Biden ML and LX\")\n",
    "plotdata = pd.DataFrame({\n",
    "    \"BIDEN_ML\":[26003 ,3969, 9683],\n",
    "    \"BIDEN_SAMPLE\":[19684 ,2990, 7326],\n",
    "    \"TRUMP_ML\":[16829 ,3533, 9973], \n",
    "    \"TRUMP_SAMPLE\":[16638 ,3500, 9862],        \n",
    "    }, \n",
    "    index=[\"Positive\", \"Neutral\", \"Negative\"]\n",
    ")\n",
    "\n",
    "plotdata.plot(kind=\"bar\",figsize=(22,12),fontsize=25)\n",
    "# Pad margins so that markers don't get c)\n",
    "plt.title(\"\",fontsize=25)\n",
    "plt.xlabel(\"\\n Sentiment\",fontsize=25)\n",
    "plt.xticks(rotation=0)\n",
    "\n",
    "plt.legend(loc=1, fontsize = 'xx-large')\n",
    "\n",
    "plt.ylabel(\"Count\",fontsize=25)\n",
    "plt.show()"
   ]
  }
 ],
 "metadata": {
  "kernelspec": {
   "display_name": "Python 3",
   "language": "python",
   "name": "python3"
  },
  "language_info": {
   "codemirror_mode": {
    "name": "ipython",
    "version": 3
   },
   "file_extension": ".py",
   "mimetype": "text/x-python",
   "name": "python",
   "nbconvert_exporter": "python",
   "pygments_lexer": "ipython3",
   "version": "3.8.5"
  }
 },
 "nbformat": 4,
 "nbformat_minor": 4
}
